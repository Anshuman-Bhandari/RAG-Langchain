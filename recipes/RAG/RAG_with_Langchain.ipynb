{
 "cells": [
  {
   "cell_type": "markdown",
   "metadata": {
    "colab_type": "text",
    "id": "view-in-github"
   },
   "source": [
    "<a href=\"https://colab.research.google.com/github/Anshuman-Bhandari/RAG-Langchain/blob/main/recipes/RAG/RAG_with_Langchain.ipynb\" target=\"_parent\"><img src=\"https://colab.research.google.com/assets/colab-badge.svg\" alt=\"Open In Colab\"/></a>"
   ]
  },
  {
   "cell_type": "markdown",
   "metadata": {
    "id": "7JDwc3bUhxDO",
    "pycharm": {
     "name": "#%% md\n"
    }
   },
   "source": [
    "# Retrieval Augmented Generation (RAG) with Langchain\n",
    "*Using IBM Granite Models*"
   ]
  },
  {
   "cell_type": "markdown",
   "metadata": {
    "id": "-f0wqdQIhxDQ",
    "jupyter": {
     "outputs_hidden": false
    },
    "pycharm": {
     "name": "#%% md\n"
    }
   },
   "source": [
    "## In this notebook\n",
    "This notebook contains instructions for performing Retrieval Augumented Generation (RAG). RAG is an architectural pattern that can be used to augment the performance of language models by recalling factual information from a knowledge base, and adding that information to the model query. The most common approach in RAG is to create dense vector representations of the knowledge base in order to retrieve text chunks that are semantically similar to a given user query.\n",
    "\n",
    "RAG use cases include:\n",
    "- Customer service: Answering questions about a product or service using facts from the product documentation.\n",
    "- Domain knowledge: Exploring a specialized domain (e.g., finance) using facts from papers or articles in the knowledge base.\n",
    "- News chat: Chatting about current events by calling up relevant recent news articles.\n",
    "\n",
    "In its simplest form, RAG requires 3 steps:\n",
    "\n",
    "- Initial setup:\n",
    "  - Index knowledge-base passages for efficient retrieval. In this recipe, we take embeddings of the passages, and store them in a vector database.\n",
    "- Upon each user query:\n",
    "  - Retrieve relevant passages from the database. In this recipe, we use an embedding of the query to retrieve semantically similar passages.\n",
    "  - Generate a response by feeding retrieved passage into a large language model, along with the user query."
   ]
  },
  {
   "cell_type": "markdown",
   "metadata": {
    "id": "usGL6YJkhxDQ",
    "jupyter": {
     "outputs_hidden": false
    },
    "pycharm": {
     "name": "#%% md\n"
    }
   },
   "source": [
    "## Setting up the environment\n",
    "\n",
    "Ensure you are running python 3.10, 3.11, or 3.12 in a freshly-created virtual environment."
   ]
  },
  {
   "cell_type": "code",
   "execution_count": null,
   "metadata": {
    "id": "DrSJW6ithxDQ"
   },
   "outputs": [],
   "source": [
    "import sys\n",
    "assert sys.version_info >= (3, 10) and sys.version_info < (3, 13), \"Use Python 3.10, 3.11, or 3.12 to run this notebook.\""
   ]
  },
  {
   "cell_type": "markdown",
   "metadata": {
    "id": "Pji32RzlhxDR",
    "jupyter": {
     "outputs_hidden": false
    },
    "pycharm": {
     "name": "#%% md\n"
    }
   },
   "source": [
    "### Install dependencies"
   ]
  },
  {
   "cell_type": "markdown",
   "metadata": {
    "id": "kosyTONfhxDR"
   },
   "source": [
    "Granite utils provides some helpful functions for recipes."
   ]
  },
  {
   "cell_type": "code",
   "execution_count": null,
   "metadata": {
    "colab": {
     "base_uri": "https://localhost:8080/"
    },
    "id": "wNCzeTychxDR",
    "jupyter": {
     "outputs_hidden": false
    },
    "outputId": "c191154f-b507-463f-9f81-9227358393ff",
    "pycharm": {
     "name": "#%%\n"
    }
   },
   "outputs": [],
   "source": [
    "%pip install git+https://github.com/ibm-granite-community/utils \\\n",
    "    transformers \\\n",
    "    langchain_community \\\n",
    "    'langchain_huggingface[full]' \\\n",
    "    langchain_milvus \\\n",
    "    replicate \\\n",
    "    wget"
   ]
  },
  {
   "cell_type": "markdown",
   "metadata": {
    "id": "2GSqUhuLhxDS"
   },
   "source": [
    "## Selecting System Components"
   ]
  },
  {
   "cell_type": "markdown",
   "metadata": {
    "id": "R_8PRRAShxDS"
   },
   "source": [
    "### Choose your Embeddings Model"
   ]
  },
  {
   "cell_type": "markdown",
   "metadata": {
    "id": "pOCGtE8vhxDS"
   },
   "source": [
    "Specify the model to use for generating embedding vectors from text.\n",
    "\n",
    "To use a model from a provider other than Huggingface, replace this code cell with one from [this Embeddings Model recipe](https://github.com/ibm-granite-community/granite-kitchen/blob/main/recipes/Components/Langchain_Embeddings_Models.ipynb)."
   ]
  },
  {
   "cell_type": "code",
   "execution_count": null,
   "metadata": {
    "colab": {
     "base_uri": "https://localhost:8080/",
     "height": 493,
     "referenced_widgets": [
      "20833489042b4475ba03492b8d172d78",
      "f433c23005234fccb207cd272974e5ff",
      "59860d0e20984ad5b80dbb5a7230b9fa",
      "f42acb8a2df04322895796d686e896ea",
      "3401cecfc0f04927bbaa29f305b7b801",
      "c57104b437584f9bb6bfa5f61d3f1a2d",
      "99ece4edbd4c4275886f1f2dac0c0c5b",
      "52f7107ee0324de19a68ef239028bf03",
      "f53745b53c54401ea012227bb905abe3",
      "8532e909e73c44e8ba41ec646206b7a0",
      "a353960d815d416fb5787924575465f3",
      "0d054b00de054b95bf1a5c2e380ce28f",
      "ef8755b57f49499ba04cc11fb8ddd7ca",
      "5fc5b16c8a04414095665635ce2a9339",
      "7ff4d9b858c046af8088ce7bb69df224",
      "5d04917e3d12462899fe0b5dca8372d5",
      "9514d8400e5041c99914b12316099993",
      "b6c230347f574a6db9885adb1be9f011",
      "fa8a610c4d4b46caa7d2453ffe6e17ae",
      "b335059cdcb744e49da56eb74d29ccf7",
      "34381ceb376b416dbbf0c555c0cd458d",
      "c650c5491fc1438c94881b24e7d090a8",
      "8b7997dbf4e94c1eba8253f88c53a0a9",
      "12c004c11df24bed95ed686b31703635",
      "e36d9317109d4cb4b4c686b884df69ab",
      "6da1562b42bc42a0b9d1db6758069662",
      "0e27585eaab64ed69fab7490bad78ae9",
      "3a578d2958514fabbe46d61cb3b5cb2c",
      "ed61e8ac5ff44870a10bc6423d9a1345",
      "2f938c6a3169457a90276695729e863e",
      "15d5d46d42ad40189d5150ac2e0514b8",
      "1452b50e1c9442ee96e1d9621309bbf8",
      "d88a08d74bc441f79bfdddc2bcb36e52",
      "564e16fa6aa34be8bf0ea45f74894714",
      "b80d6d19063548549e722f0f1e740108",
      "07d33ef31d0e47b5876d85bb18c7308d",
      "60282d2c29434d25b92e583c1da61769",
      "566237205fac45029a437523c4777cb9",
      "208e54726a5f45cda302bfd9a2779be4",
      "4b6c030364774d2ba423c04ceaa3d347",
      "e0e54ce2cbeb419ca44c73e3aef2f7dc",
      "b55812c1c445400a97ca41075da07b1a",
      "da56b1fb033642138044476a593f533a",
      "c4f52408e5de42ef81d0129782362e93",
      "369ee62d5886446c990f1036289829a3",
      "ba3e2d6b071d4a2b813165aa7853780f",
      "eb0d3f406f5b46f291dbed7d96e57707",
      "3591fa56c6664ed2b867d499ba49b70a",
      "e58a8e8f450746c8b527ec9a0a9157a5",
      "98644511c92e45b3aa1f8495ca60d3d9",
      "105237105f3047918908ac90f5ee8091",
      "b9ce363613784dcd92ac34be0cca1aa9",
      "e5edba28eeb244cb90efa8b90d61ab3c",
      "478210a6772e46f2ae318f5a2ab95bb5",
      "77232aac493b4e849e400026c0a16337",
      "59836b8a39fb4e0698839d63060cd020",
      "5268b88c528e4d42900cd359ec683c57",
      "624e63ced5c540008ba9c218f4d72962",
      "882c73b23ed146b99d58d0071094e70e",
      "3e7bb368c5354dbf8fba34faa13cef7e",
      "2ff636364abd44aeb075e10c3ac64e0a",
      "f5697e46696c4fb1822243b5f5c39713",
      "f4adeac4b3b14f4197ab173d27cb648f",
      "35fcfd53fd8f4a4eb743e939ed13e4f8",
      "0112a839099549f3974b2a1a030886d8",
      "da4978c85c284b34bd879b2c15d927b9",
      "4c8a17e155784f3da46914cf0b4f9b02",
      "98ea3535f6524968a15ca1359c5c7a76",
      "ca6373241ed34a6aa98666bb2ce84076",
      "ea346c006108454282c7f6ce8fb928dc",
      "0537d7e814424064b1bc86d8e84ef799",
      "f64a4e2a972244b2a86f21ecb164adb4",
      "36f4b71683564443aed06aad408db3d7",
      "dec856e556674e4096acfb4b4c42e540",
      "ff2ae39cc34c40849c491d926cec2e27",
      "d197da60b2744da68e636e69b343711d",
      "b2165ce6f32e45dab2a600e0ecccdc25",
      "bcd9019b7f0b43bf851bd2bb4254552d",
      "03d5ebc0b47146d2af5059e529fd1660",
      "44d94ff1778b4a9c92b252ccea477bb0",
      "a69003f584544763a9bcc30e867ae88c",
      "878a2ff5479742dca0c406b4d51b78ee",
      "381ae5c846cd4cc69324429c3a6e0ebd",
      "3318db3e3b3148f2b4c5c85437f6b4c0",
      "212bd871491e4a90b1c8dc7df2a41d88",
      "dd02f727da6648089dcab46418a1c8d4",
      "b5df1abc9bc44972aaddac912ca07a44",
      "599782e5d5f64a598f8096f36699eba1",
      "2ebaa360bd3f44d48b964f819f6a874b",
      "7c985acf17b74b539cb714b34e669008",
      "fef0bc5bf8b5429f8a026d7446d737ff",
      "d58121029e4341009f660ef64a37b3d1",
      "af919d59a00b4ebeb687a5bd4e94570f",
      "8ed16db39fd0433e97f512154ea8fccc",
      "b3947324a48c4677af0f7d1be01520cc",
      "33e85e7219534d22aad7fb9c1296cf7e",
      "f1cff33332ef430b9b14e5593de1d551",
      "33feb1810a464d018e027a7b97dbd257",
      "25ea72e4ab884bf4b99b4ea68e753271",
      "9d078977517a4539b5eacddff710223c",
      "dfb2ce63312f4261ab42ca72018bd23a",
      "b51d6e7cd911471fb5abbeb256732cca",
      "6f470f29014843a697f45c6074008bbf",
      "6ddda7462972454288aa1ec405198eb6",
      "40a37c30867244ed9693c48699a78586",
      "4e97603528524fd3aeb29b87de6dd126",
      "6622725c75304a43a825adecf1532638",
      "6bb266fc985f4ac68655d797fbbd3b44",
      "a5dca50e96b94aa488a9eaff79fe2eea",
      "bbfb9e61549242db9cf74cfcb7d55278",
      "f4ed35e2fdde45b3bbcb432d2b19cbf5",
      "611f67228279445aa397e9dd1b435c6d",
      "1e7113cffcea4aaabf55223f191e8ea7",
      "14257126f4a44b74a1d9774c510fc2cf",
      "d2702fc5d0364534b24589934de2dc05",
      "91fc99a0a6b44cf48862f882371270ef",
      "c8be68e144a14140b70757dae093574b",
      "a795e87236c848499eb3c923f9d36882",
      "2c02e67945eb4c508754403caeabc642",
      "130feb8e31e048e5b8ddd08070fcc2ee",
      "e044e7c1d34d495886fd9ad6ffd7ca12"
     ]
    },
    "id": "teqmGg7_hxDS",
    "outputId": "fa7c26a7-93fc-4403-8b1d-3a8a79875d7c"
   },
   "outputs": [],
   "source": [
    "from langchain_huggingface import HuggingFaceEmbeddings\n",
    "from transformers import AutoTokenizer\n",
    "\n",
    "embeddings_model_path = \"ibm-granite/granite-embedding-30m-english\"\n",
    "embeddings_model = HuggingFaceEmbeddings(\n",
    "    model_name=embeddings_model_path,\n",
    ")\n",
    "embeddings_tokenizer = AutoTokenizer.from_pretrained(embeddings_model_path)"
   ]
  },
  {
   "cell_type": "markdown",
   "metadata": {
    "id": "3X-ajUV2hxDS"
   },
   "source": [
    "### Choose your Vector Database\n",
    "\n",
    "Specify the database to use for storing and retrieving embedding vectors.\n",
    "\n",
    "To connect to a vector database other than Milvus substitute this code cell with one from [this Vector Store recipe](https://github.com/ibm-granite-community/granite-kitchen/blob/main/recipes/Components/Langchain_Vector_Stores.ipynb)."
   ]
  },
  {
   "cell_type": "code",
   "execution_count": null,
   "metadata": {
    "colab": {
     "base_uri": "https://localhost:8080/"
    },
    "id": "iVdvsUOlhxDS",
    "outputId": "c990c44e-5d5e-439a-fee3-83fbd2adaec1"
   },
   "outputs": [],
   "source": [
    "from langchain_milvus import Milvus\n",
    "import tempfile\n",
    "\n",
    "db_file = tempfile.NamedTemporaryFile(prefix=\"milvus_\", suffix=\".db\", delete=False).name\n",
    "print(f\"The vector database will be saved to {db_file}\")\n",
    "\n",
    "vector_db = Milvus(\n",
    "    embedding_function=embeddings_model,\n",
    "    connection_args={\"uri\": db_file},\n",
    "    auto_id=True,\n",
    "    index_params={\"index_type\": \"AUTOINDEX\"},\n",
    ")"
   ]
  },
  {
   "cell_type": "markdown",
   "metadata": {
    "id": "jL72uMwShxDS",
    "jupyter": {
     "outputs_hidden": false
    },
    "pycharm": {
     "name": "#%% md\n"
    }
   },
   "source": [
    "### Choose your LLM\n",
    "The LLM will be used for answering the question, given the retrieved text.\n",
    "\n",
    "Select a Granite Code model from the [`ibm-granite`](https://replicate.com/ibm-granite) org on Replicate. Here we use the Replicate Langchain client to connect to the model.\n",
    "\n",
    "To connect to a model on a provider other than Replicate, substitute this code cell with one from the [LLM component recipe](https://github.com/ibm-granite-community/granite-kitchen/blob/main/recipes/Components/Langchain_LLMs.ipynb)."
   ]
  },
  {
   "cell_type": "code",
   "execution_count": null,
   "metadata": {
    "colab": {
     "base_uri": "https://localhost:8080/",
     "height": 244,
     "referenced_widgets": [
      "76ca4ed168e04cc99abeefd607701edc",
      "75e3fd7c49f7489e94080534470e922c",
      "fa29445305334ad9b4ad52d25c5cf807",
      "af94ec20e2934f2891062c30569c3a03",
      "daf21f16cafe4f4183cd295f40a96787",
      "ae7f0e3e18094a128741a9a080d25a67",
      "480007e89b594a5eaad31ff485367517",
      "69d63a753b9046efa252179ef8d7261f",
      "6edb54583ac04fb18469e29a3f09460c",
      "ef64bb26b4814ff189e101973dc57d64",
      "d4ae4d24da5c44809cc9aabf97ca75a7",
      "7620b1755dbb42ceb04ec22e06b77cf2",
      "3506b57e434b401e98526cc9fae72265",
      "a10dfc0c4aee46ea8dbbeb38620c8573",
      "1617ba6cad464e35ad349eabdb76aa19",
      "ee3097dfbfc94747b9f75764cc9584ce",
      "c7deede8ea7d4095b99b93e1ac9da7d5",
      "0b947a2c8dc64074b4c27f576b8bfd19",
      "c454c75c639841c3b894100959e06c9c",
      "33531d255e5043bdbc3b0f9af059bb00",
      "89c406a5922c471d91cc1cd6f6477410",
      "b61cb91cabe74765b830074a146cd0eb",
      "94836155e97e40a4a05501aeaf32bb2e",
      "15b29c8051de4f5abb545da2c1304878",
      "4558044c7700425d95efa54d46b69534",
      "b3dbbbfcd7b8469786fdf4aaf48704ef",
      "d9f0dc49e48e4e9e8ff837c515138d86",
      "cff2c4110e104b998fec4a3b1f817455",
      "b25f1e8207794fcd94c13668e80d0ded",
      "e64b51d6ee5144899d84c440fbc75096",
      "0cce7c0adb754d408f6deaab31fb25c1",
      "d910a3a04c74455ea86579e47baeebeb",
      "de808f5f1b9a4446bbdfa2c3da6ad1b4",
      "8ccbcff8968c4f99939222ae1f929e17",
      "95ea5e4be482439fbe0b9126b05cb231",
      "82d0c9b4b1c0405cb328d72d9351fb41",
      "e910525cd94f46bb9aa2bf64c4b62112",
      "0bd44f492e1e4e49b8c4f0d75bbd48f7",
      "640d6375b13f4f84b6ae9c09eb727cd5",
      "b5fc1a4f13b04a8fba2ef41461328f1e",
      "70f680faa6c141359b7fb12fc1c23a22",
      "e7e09b79fbfe42f786c6441a305e2df1",
      "ac6f3e49dbd54045a0b652d478794b53",
      "2570dbb8b02f4427b1745787b4ed83e6",
      "a90f1617cefa44659f45e578bd9ced7b",
      "4ea511270bef422597c0d4b90e1d7b6b",
      "224fba3fee404fc5b8cf9fa48bd241ae",
      "0dcb7c763ec44712ace98511c8ce0c3c",
      "1e415f8796f44f1ea4856250ed20b3f3",
      "7ce3b74c05134ee2a92ecd2fa1a44b1a",
      "00b80ceeb83b46ed9efccc39af90dd24",
      "c348fdde309b404bbf779723af0c32f4",
      "eb6d7987b0404eda92c7bf8c0dde9d1e",
      "1d7eba73086642d3bd139b3c4e7b3260",
      "ac0c57fb2f2a4bcc86fd77a3d09eb786",
      "eb47dd2d753945309a7d2a189dcd56ce",
      "32c8e15e6a424fb4b5f0d266bb293de9",
      "d2aad451b85641c8ba9bcf792b50e6b9",
      "2a68a28e2a3d41ec94a4c02b5551c8d1",
      "8783c0e74d3c4740abc8056ed21e325c",
      "f93250918146447d93bb2f2c36c12402",
      "27b04e1db2f74fadad2a6134d8aa8d6e",
      "ef76f935a34a4fb2ae0405de46a987fa",
      "105882256d0d43dc8cd998e809d87fd0",
      "f94d10db12a04259abbb5b4bf9d86441",
      "e95565cc6df6452c96f60157a860cb6e"
     ]
    },
    "id": "hM3gFaWRhxDS",
    "outputId": "e6c492c1-5782-46a6-a88c-c70ca36a8637"
   },
   "outputs": [],
   "source": [
    "from langchain_community.llms import Replicate\n",
    "from ibm_granite_community.notebook_utils import get_env_var\n",
    "\n",
    "model_path = \"ibm-granite/granite-3.3-8b-instruct\"\n",
    "model = Replicate(\n",
    "    model=model_path,\n",
    "    replicate_api_token=get_env_var('REPLICATE_API_TOKEN'),\n",
    ")\n",
    "tokenizer = AutoTokenizer.from_pretrained(model_path)"
   ]
  },
  {
   "cell_type": "markdown",
   "metadata": {
    "id": "dc-cSsLQhxDT",
    "jupyter": {
     "outputs_hidden": false
    },
    "pycharm": {
     "name": "#%% md\n"
    }
   },
   "source": [
    "## Building the Vector Database\n",
    "\n",
    "In this example, we take the State of the Union speech text, split it into chunks, derive embedding vectors using the embedding model, and load it into the vector database for querying."
   ]
  },
  {
   "cell_type": "markdown",
   "metadata": {
    "id": "1Tiz5Q5fhxDT"
   },
   "source": [
    "### Download the document\n",
    "\n",
    "Here we use President Biden's State of the Union address from March 1, 2022."
   ]
  },
  {
   "cell_type": "code",
   "execution_count": null,
   "metadata": {
    "id": "K9fjXL7whxDT",
    "jupyter": {
     "outputs_hidden": false
    },
    "pycharm": {
     "name": "#%%\n"
    }
   },
   "outputs": [],
   "source": [
    "import os\n",
    "import wget\n",
    "\n",
    "filename = 'state_of_the_union.txt'\n",
    "url = 'https://raw.githubusercontent.com/IBM/watson-machine-learning-samples/master/cloud/data/foundation_models/state_of_the_union.txt'\n",
    "\n",
    "if not os.path.isfile(filename):\n",
    "  wget.download(url, out=filename)"
   ]
  },
  {
   "cell_type": "markdown",
   "metadata": {
    "id": "OIKC7ABDhxDT"
   },
   "source": [
    "### Split the document into chunks\n",
    "\n",
    "Split the document into text segments that can fit into the model's context window."
   ]
  },
  {
   "cell_type": "code",
   "execution_count": null,
   "metadata": {
    "colab": {
     "base_uri": "https://localhost:8080/"
    },
    "id": "_wAk23_lhxDT",
    "jupyter": {
     "outputs_hidden": false
    },
    "outputId": "5cf1a407-f75c-4a46-bdd3-1fe07f1ac33c",
    "pycharm": {
     "name": "#%%\n"
    }
   },
   "outputs": [],
   "source": [
    "from langchain.document_loaders import TextLoader\n",
    "from langchain.text_splitter import CharacterTextSplitter\n",
    "\n",
    "loader = TextLoader(filename)\n",
    "documents = loader.load()\n",
    "text_splitter = CharacterTextSplitter.from_huggingface_tokenizer(\n",
    "    tokenizer=embeddings_tokenizer,\n",
    "    chunk_size=embeddings_tokenizer.max_len_single_sentence,\n",
    "    chunk_overlap=0,\n",
    ")\n",
    "texts = text_splitter.split_documents(documents)\n",
    "doc_id = 0\n",
    "for text in texts:\n",
    "    text.metadata[\"doc_id\"] = (doc_id:=doc_id+1)\n",
    "print(f\"{len(texts)} text document chunks created\")"
   ]
  },
  {
   "cell_type": "markdown",
   "metadata": {
    "id": "m06Hkbs8hxDT",
    "jupyter": {
     "outputs_hidden": false
    },
    "pycharm": {
     "name": "#%% md\n"
    }
   },
   "source": [
    "### Populate the vector database\n",
    "\n",
    "NOTE: Population of the vector database may take over a minute depending on your embedding model and service."
   ]
  },
  {
   "cell_type": "code",
   "execution_count": null,
   "metadata": {
    "colab": {
     "base_uri": "https://localhost:8080/"
    },
    "id": "dWjiTHeKhxDT",
    "outputId": "13dda6fd-872c-4621-987c-f1d03ed13589"
   },
   "outputs": [],
   "source": [
    "ids = vector_db.add_documents(texts)\n",
    "print(f\"{len(ids)} documents added to the vector database\")"
   ]
  },
  {
   "cell_type": "markdown",
   "metadata": {
    "id": "KInZQ1cHhxDT"
   },
   "source": [
    "## Querying the Vector Database"
   ]
  },
  {
   "cell_type": "markdown",
   "metadata": {
    "id": "H5le75AWhxDT"
   },
   "source": [
    "### Conduct a similarity search\n",
    "\n",
    "Search the database for similar documents by proximity of the embedded vector in vector space."
   ]
  },
  {
   "cell_type": "code",
   "execution_count": null,
   "metadata": {
    "colab": {
     "base_uri": "https://localhost:8080/"
    },
    "id": "XNLINckDhxDT",
    "outputId": "5ae9c400-c20e-4d4d-8203-a829a19b5531"
   },
   "outputs": [],
   "source": [
    "query = \"What did the president say about Ketanji Brown Jackson?\"\n",
    "docs = vector_db.similarity_search(query)\n",
    "print(f\"{len(docs)} documents returned\")\n",
    "for doc in docs:\n",
    "    print(doc)\n",
    "    print(\"=\" * 80)  # Separator for clarity"
   ]
  },
  {
   "cell_type": "markdown",
   "metadata": {
    "id": "hD8-q9TDhxDT"
   },
   "source": [
    "## Answering Questions"
   ]
  },
  {
   "cell_type": "markdown",
   "metadata": {
    "id": "RR3Ns0j0hxDT"
   },
   "source": [
    "### Automate the RAG pipeline\n",
    "\n",
    "Build a RAG chain with the model and the document retriever.\n",
    "\n",
    "First we create the prompts for Granite to perform the RAG query. We use the Granite chat template and supply the placeholder values that the LangChain RAG pipeline will replace.\n",
    "\n",
    "Next, we construct the RAG pipeline by using the Granite prompt templates previously created."
   ]
  },
  {
   "cell_type": "code",
   "execution_count": null,
   "metadata": {
    "id": "PaJpyzmshxDT"
   },
   "outputs": [],
   "source": [
    "from ibm_granite_community.langchain import TokenizerChatPromptTemplate, create_stuff_documents_chain\n",
    "from langchain.chains.retrieval import create_retrieval_chain\n",
    "\n",
    "# Create a Granite prompt for question-answering with the retrieved context\n",
    "prompt_template = TokenizerChatPromptTemplate.from_template(\"{input}\", tokenizer=tokenizer)\n",
    "\n",
    "# Assemble the retrieval-augmented generation chain\n",
    "combine_docs_chain = create_stuff_documents_chain(\n",
    "    llm=model,\n",
    "    prompt=prompt_template,\n",
    ")\n",
    "rag_chain = create_retrieval_chain(\n",
    "    retriever=vector_db.as_retriever(),\n",
    "    combine_docs_chain=combine_docs_chain,\n",
    ")"
   ]
  },
  {
   "cell_type": "markdown",
   "metadata": {
    "id": "dfep-3G3hxDT",
    "jupyter": {
     "outputs_hidden": false
    },
    "pycharm": {
     "name": "#%% md\n"
    }
   },
   "source": [
    "### Generate a retrieval-augmented response to a question"
   ]
  },
  {
   "cell_type": "markdown",
   "metadata": {
    "id": "Wb_ahIhehxDT",
    "jupyter": {
     "outputs_hidden": false
    },
    "pycharm": {
     "name": "#%% md\n"
    }
   },
   "source": [
    "Use the RAG chain to process a question. The document chunks relevant to that question are retrieved and used as context."
   ]
  },
  {
   "cell_type": "code",
   "execution_count": null,
   "metadata": {
    "colab": {
     "base_uri": "https://localhost:8080/"
    },
    "id": "rpv7ifpRhxDT",
    "jupyter": {
     "outputs_hidden": false
    },
    "outputId": "24cd8166-abd1-4855-a34c-7a2490756f07",
    "pycharm": {
     "name": "#%%\n"
    }
   },
   "outputs": [],
   "source": [
    "output = rag_chain.invoke({\"input\": query})\n",
    "\n",
    "print(output['answer'])"
   ]
  }
 ],
 "metadata": {
  "colab": {
   "include_colab_link": true,
   "provenance": []
  },
  "kernelspec": {
   "display_name": "Python 3",
   "name": "python3"
  },
  "language_info": {
   "name": "python"
  }
 },
 "nbformat": 4,
 "nbformat_minor": 0
}
